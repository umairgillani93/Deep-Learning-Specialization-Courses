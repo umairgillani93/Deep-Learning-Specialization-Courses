{
 "cells": [
  {
   "cell_type": "code",
   "execution_count": 42,
   "metadata": {},
   "outputs": [
    {
     "name": "stdout",
     "output_type": "stream",
     "text": [
      "The autoreload extension is already loaded. To reload it, use:\n",
      "  %reload_ext autoreload\n"
     ]
    }
   ],
   "source": [
    "import h5py\n",
    "import numpy as np \n",
    "from matplotlib import pyplot as plt \n",
    "\n",
    "%matplotlib inline \n",
    "plt.rcParams['figure.figsize'] = (5.0, 4.0)\n",
    "plt.rcParams['image.interpolation'] = 'nearest'\n",
    "plt.rcParams['image.cmap'] = 'gray'\n",
    "\n",
    "%load_ext autoreload\n",
    "%autoreload 2\n",
    "\n",
    "np.random.seed(1)"
   ]
  },
  {
   "cell_type": "code",
   "execution_count": 43,
   "metadata": {},
   "outputs": [],
   "source": [
    "def zero_pad(X, pad):\n",
    "    \"\"\"\n",
    "    Padds the dimentions of the given image Array\n",
    "    padds with zeros all the images of dataset X\n",
    "    X.shape = (m, n_H, n_W, n_C)\n",
    "    \"\"\"\n",
    "    X_pad = np.pad(X, ((0,0), (pad, pad), (pad, pad), (0,0)), 'constant', constant_values=0)\n",
    "    \n",
    "    return X_pad "
   ]
  },
  {
   "cell_type": "code",
   "execution_count": 44,
   "metadata": {},
   "outputs": [
    {
     "name": "stdout",
     "output_type": "stream",
     "text": [
      "x.shape = (4, 3, 3, 2)\n",
      "x_pad.shape = (4, 7, 7, 2)\n",
      "\n",
      "\n",
      "x[1, 1] =\n",
      " [[ 0.90085595 -0.68372786]\n",
      " [-0.12289023 -0.93576943]\n",
      " [-0.26788808  0.53035547]]\n",
      "x_pad[1, 1] =\n",
      " [[0. 0.]\n",
      " [0. 0.]\n",
      " [0. 0.]\n",
      " [0. 0.]\n",
      " [0. 0.]\n",
      " [0. 0.]\n",
      " [0. 0.]]\n"
     ]
    },
    {
     "data": {
      "text/plain": [
       "<matplotlib.image.AxesImage at 0x6ec4f75c88>"
      ]
     },
     "execution_count": 44,
     "metadata": {},
     "output_type": "execute_result"
    },
    {
     "data": {
      "image/png": "[encoded data removed]",
      "text/plain": [
       "<Figure size 360x288 with 2 Axes>"
      ]
     },
     "metadata": {
      "needs_background": "light"
     },
     "output_type": "display_data"
    }
   ],
   "source": [
    "np.random.seed(1)\n",
    "x = np.random.randn(4, 3, 3, 2)\n",
    "\n",
    "x_pad = zero_pad(x, 2)\n",
    "\n",
    "print('x.shape =', x.shape)\n",
    "print('x_pad.shape =', x_pad.shape)\n",
    "print('\\n')\n",
    "print('x[1, 1] =\\n', x[1, 1])\n",
    "print('x_pad[1, 1] =\\n',x_pad[1, 1])\n",
    "\n",
    "fig, axarr = plt.subplots(1,2)\n",
    "axarr[0].set_title('x')\n",
    "axarr[0].imshow(x[0,:,:,0])\n",
    "axarr[1].set_title('x_pad')\n",
    "axarr[1].imshow(x_pad[0,:, :,0])"
   ]
  },
  {
   "cell_type": "code",
   "execution_count": 45,
   "metadata": {},
   "outputs": [
    {
     "name": "stdout",
     "output_type": "stream",
     "text": [
      "Z = 103.32\n"
     ]
    }
   ],
   "source": [
    "def conv_single_step(a_slice_prev, W, b):\n",
    "    \"\"\"\n",
    "    a_slice_prev -- input image for first layer OR previous image output for later layers\n",
    "    W -- weights matrix / filters \n",
    "    b -- baiseness factor \n",
    "    \"\"\"\n",
    "    \n",
    "    s = np.multiply(a_slice_prev, W) + b\n",
    "    z = np.sum(s)\n",
    "    \n",
    "    return z\n",
    "\n",
    "a_slice_prev = np.random.randn(4,4,3)\n",
    "W = np.random.randn(4,4,3)\n",
    "b = np.random.randn(1,1,1)\n",
    "\n",
    "Z = conv_single_step(a_slice_prev, W, b)\n",
    "\n",
    "print('Z = {:.2f}'.format(Z))"
   ]
  },
  {
   "cell_type": "code",
   "execution_count": 46,
   "metadata": {},
   "outputs": [],
   "source": [
    "def conv_forward(A_prev, W, b, hyperparameters):\n",
    "    \"\"\"\n",
    "    implements the forward propagation for a convolution function\n",
    "    A_prev -- output activation of the previous layer, Numpy array of size (m, n_H_prev, n_W_pre, n_C_prev)\n",
    "    W -- Weights, Numpy array of shape (f, f, n_C_prev, n_C)\n",
    "    b -- Baises, Numpy array of shape (1, 1, 1, n_C)\n",
    "    hyperparameters -- python dictionary containig 'stride' and 'pad'\n",
    "    \n",
    "    Returns:\n",
    "    z -- conv output, numpy array of shape (m, n_H, n_W, n_C)\n",
    "    catche -- catche of the values, needed for the conv_backward() function \n",
    "    \"\"\"\n",
    "    \n",
    "    # retrieve dimensions from A_prev's shape \n",
    "    (m, n_H_prev, n_W_prev, n_C_prev) = A_prev.shape\n",
    "    \n",
    "    # retrieve the dimensions from W's shape \n",
    "    (f, f, n_C_prev, n_C) = W.shape \n",
    "    \n",
    "    # retrieve values of stride and pad from hyperparameters dictionary \n",
    "    stride = hyperparameters['stride']\n",
    "    pad = hyperparameters['pad']\n",
    "    \n",
    "    # Compute the dimensions of the CONV output volume using the formula given above \n",
    "    n_H = int((n_H_prev - f + 2 * pad) / stride ) + 1\n",
    "    n_W = int((n_W_prev -f + 2 * pad ) / stride) + 1\n",
    "    \n",
    "    # initialize the output volume Z with zeros \n",
    "    Z = np.zeros((m, n_H, n_W, n_C))\n",
    "    \n",
    "    # create A_prev_pad by padding A_prev \n",
    "    A_prev_pad = zero_pad(A_prev, pad)\n",
    "    \n",
    "    for i in range(m): # loop over the batch of training examples \n",
    "        a_prev_pad = A_prev_pad[i] # select ith training example's padded activation \n",
    "        for h in range(n_H): # loop over vertical axis of the output volume \n",
    "            for w in range(n_W): # loop over horizontal axis of the output volume \n",
    "                for c in range(n_C): # loop over the number of channels for output volume \n",
    "                    \n",
    "                    # find the corners of the current \"slice\"\n",
    "                    vert_start = h * stride \n",
    "                    vert_end = vert_start + f \n",
    "                    horiz_start = w * stride \n",
    "                    horiz_end = horiz_start + f \n",
    "                    \n",
    "                    # use the corners to define the 3D slice of a_prev_pad \n",
    "                    a_slice_prev = a_prev_pad[vert_start:vert_end, horiz_start:horiz_end, :]\n",
    "                    \n",
    "                    # convolve the 3D slice with the correct filter W and biase b to get back the \n",
    "                    # output Neuron \n",
    "                    Z[i, h, w, c] = conv_single_step(a_slice_prev, W[...,c], b[...,c])\n",
    "                    \n",
    "    \n",
    "    # make sure your output shape is correct \n",
    "    assert(Z.shape == (m, n_H, n_W, n_C))    \n",
    "    \n",
    "    # save information in cache for the backpropagation \n",
    "    cache = (A_prev, W, b, hyperparameters)\n",
    "                    \n",
    "    return Z, cache "
   ]
  },
  {
   "cell_type": "code",
   "execution_count": 47,
   "metadata": {},
   "outputs": [
    {
     "name": "stdout",
     "output_type": "stream",
     "text": [
      "Z's mean = 0.162\n",
      "cache conv[0][1][2][3] [-0.20075807  0.18656139  0.41005165]\n"
     ]
    }
   ],
   "source": [
    "np.random.seed(1)\n",
    "A_prev = np.random.randn(10,4,4,3)\n",
    "W = np.random.randn(2,2,3,8)\n",
    "b = np.random.randn(1,1,1,8)\n",
    "\n",
    "hyperparameters = {\n",
    "    'stride': 1,\n",
    "    'pad': 4\n",
    "}\n",
    "\n",
    "Z, cache_conv = conv_forward(A_prev, W, b, hyperparameters)\n",
    "\n",
    "print(\"Z's mean = {:.3f}\" .format(np.mean(Z)))\n",
    "print('cache conv[0][1][2][3]', cache_conv[0][1][2][3])"
   ]
  },
  {
   "cell_type": "code",
   "execution_count": 48,
   "metadata": {},
   "outputs": [],
   "source": [
    "def pool_forward(A_prev, hyperparameters, mode='max'):\n",
    "    \"\"\"\n",
    "    Implements the forward pass of pooling layer \n",
    "    \n",
    "    A_prev -- input data, numpy array of the shape (m, n_H_prev, n_W_prev, n_C_prev)\n",
    "    hyperparameters - python dictionary, containing the value of \"stride\" and \"filter\"\n",
    "    mode -- the pooling mode you would like to use MAX / AVG\n",
    "    \n",
    "    Returns:\n",
    "    A -- output of the pooling layer, numpy array of shape (m, n_H, n_W, n_C)\n",
    "    cache -- cache used in the backward pass of the pooling layer, contains the input\n",
    "    and hyperparameters \n",
    "    \n",
    "    \"\"\"\n",
    "    \n",
    "    # Retrieve dimensions from the input shape\n",
    "    (m, n_H_prev, n_W_prev, n_C_prev) = A_prev.shape\n",
    "    \n",
    "    # Retrieve hyperparameters from \"hparameters\"\n",
    "    f = hyperparameters[\"f\"]\n",
    "    stride = hyperparameters[\"stride\"]\n",
    "    \n",
    "    # Define the dimensions of the output\n",
    "    n_H = int(1 + (n_H_prev - f) / stride)\n",
    "    n_W = int(1 + (n_W_prev - f) / stride)\n",
    "    n_C = n_C_prev\n",
    "    \n",
    "    # Initialize output matrix A\n",
    "    A = np.zeros((m, n_H, n_W, n_C))              \n",
    "    \n",
    "    for i in range(m):                           # loop over the training examples\n",
    "        for h in range(n_H):                     # loop on the vertical axis of the output volume\n",
    "            for w in range(n_W):                 # loop on the horizontal axis of the output volume\n",
    "                for c in range (n_C):            # loop over the channels of the output volume\n",
    "                    \n",
    "                    # Find the corners of the current \"slice\" (≈4 lines)\n",
    "                    vert_start = h * stride\n",
    "                    vert_end = vert_start + f\n",
    "                    horiz_start = w * stride\n",
    "                    horiz_end = horiz_start + f\n",
    "                    \n",
    "                    # Use the corners to define the current slice on the ith training example of A_prev, channel c. (≈1 line)\n",
    "                    a_prev_slice = A_prev[i, vert_start:vert_end, horiz_start:horiz_end, c]\n",
    "                    \n",
    "                    # Compute the pooling operation on the slice. Use an if statment to differentiate the modes. Use np.max/np.mean. the modes \n",
    "                    if mode == \"max\":\n",
    "                        A[i, h, w, c] = np.max(a_prev_slice)\n",
    "                    elif mode == \"average\":\n",
    "                        A[i, h, w, c] = np.mean(a_prev_slice)\n",
    "    \n",
    "    # Store the input and hparameters in \"cache\" for pool_backward()\n",
    "    cache = (A_prev, hyperparameters)\n",
    "    \n",
    "    # Making sure your output shape is correct\n",
    "    assert(A.shape == (m, n_H, n_W, n_C))\n",
    "    \n",
    "    return A, cache"
   ]
  },
  {
   "cell_type": "code",
   "execution_count": 49,
   "metadata": {},
   "outputs": [
    {
     "name": "stdout",
     "output_type": "stream",
     "text": [
      "mode = max\n",
      "A = [[[[1.74481176 1.6924546  2.10025514]]]\n",
      "\n",
      "\n",
      " [[[1.19891788 1.51981682 2.18557541]]]]\n",
      "\n",
      "mode = average\n",
      "A = [[[[-0.09498456  0.11180064 -0.14263511]]]\n",
      "\n",
      "\n",
      " [[[-0.09525108  0.28325018  0.33035185]]]]\n"
     ]
    }
   ],
   "source": [
    "np.random.seed(1)\n",
    "A_prev = np.random.randn(2, 4, 4, 3)\n",
    "hyperparameters = {\"stride\" : 1, \"f\": 4}\n",
    "\n",
    "A, cache = pool_forward(A_prev, hyperparameters)\n",
    "print(\"mode = max\")\n",
    "print(\"A =\", A)\n",
    "print()\n",
    "A, cache = pool_forward(A_prev, hyperparameters, mode = \"average\")\n",
    "print(\"mode = average\")\n",
    "print(\"A =\", A)"
   ]
  },
  {
   "cell_type": "code",
   "execution_count": 54,
   "metadata": {},
   "outputs": [],
   "source": [
    "def conv_backward(dZ, cache):\n",
    "    \"\"\"\n",
    "    Implements the backpropagation for a convolution function\n",
    "    \n",
    "    Arguments: \n",
    "    dZ -- gradient of the cost with respect to the output of the convolution layer (Z),\n",
    "    which is a numpy array of shape (m, n_H, n_W, n_C)\n",
    "    cache -- cache of the values neede for conv_backward(), output of the conv_forward()\n",
    "    \n",
    "    Returns:\n",
    "    dA_prev -- gradient of the cost with respect to input of the conv layer (A_prev),\n",
    "        numpy array of shape (m, n_H_prev, n_W_prev, n_C_prev)\n",
    "        \n",
    "    dW -- gradient of the cost with respect to weights of conv layer (W)\n",
    "        numpy array of shape (f, f, n_C_prev, n_C)\n",
    "        \n",
    "    db -- gradient of the cost with respect to the biases of the conv layer (b)\n",
    "        numpy array of shape (1, 1, 1, n_C)\n",
    "    \n",
    "    \"\"\"\n",
    "    \n",
    "    # Retrieve information from \"cache\"\n",
    "    (A_prev, W, b, hparameters) = cache\n",
    "    \n",
    "    # Retrieve dimensions from A_prev's shape\n",
    "    (m, n_H_prev, n_W_prev, n_C_prev) = A_prev.shape\n",
    "    \n",
    "    # Retrieve dimensions from W's shape\n",
    "    (f, f, n_C_prev, n_C) = W.shape\n",
    "    \n",
    "    # Retrieve information from \"hparameters\"\n",
    "    stride = hparameters[\"stride\"]\n",
    "    pad = hparameters[\"pad\"]\n",
    "    \n",
    "    # Retrieve dimensions from dZ's shape\n",
    "    (m, n_H, n_W, n_C) = dZ.shape\n",
    "    \n",
    "    # Initialize dA_prev, dW, db with the correct shapes\n",
    "    dA_prev = np.zeros((m, n_H_prev, n_W_prev, n_C_prev))                           \n",
    "    dW = np.zeros((f, f, n_C_prev, n_C))\n",
    "    db = np.zeros((1, 1, 1, n_C))\n",
    "\n",
    "    # Pad A_prev and dA_prev\n",
    "    A_prev_pad = zero_pad(A_prev, pad)\n",
    "    dA_prev_pad = zero_pad(dA_prev, pad)\n",
    "    \n",
    "    for i in range(m):                       # loop over the training examples\n",
    "        \n",
    "        # select ith training example from A_prev_pad and dA_prev_pad\n",
    "        a_prev_pad = A_prev_pad[i]\n",
    "        da_prev_pad = dA_prev_pad[i]\n",
    "        \n",
    "        for h in range(n_H):                   # loop over vertical axis of the output volume\n",
    "            for w in range(n_W):               # loop over horizontal axis of the output volume\n",
    "                for c in range(n_C):           # loop over the channels of the output volume\n",
    "                    \n",
    "                    # Find the corners of the current \"slice\"\n",
    "                    vert_start = h * stride\n",
    "\n",
    "                    vert_end = vert_start + f\n",
    "                    horiz_start = w * stride\n",
    "\n",
    "                    horiz_end = horiz_start + f\n",
    "                    \n",
    "                    # Use the corners to define the slice from a_prev_pad\n",
    "                    a_slice = a_prev_pad[vert_start:vert_end, horiz_start:horiz_end, :]\n",
    "\n",
    "                    # Update gradients for the window and the filter's parameters using the code formulas given above\n",
    "                    da_prev_pad[vert_start:vert_end, horiz_start:horiz_end, :] += W[:,:,:,c] * dZ[i, h, w, c]\n",
    "                    dW[:,:,:,c] += a_slice * dZ[i, h, w, c]\n",
    "                    db[:,:,:,c] += dZ[i, h, w, c]\n",
    "                    \n",
    "        # Set the ith training example's dA_prev to the unpaded da_prev_pad (Hint: use X[pad:-pad, pad:-pad, :])\n",
    "        dA_prev[i, :, :, :] = da_prev_pad[pad:-pad, pad:-pad, :]\n",
    "    \n",
    "    assert(dA_prev.shape == (m, n_H_prev, n_W_prev, n_C_prev))\n",
    "        \n",
    "    return dA_prev, dW, db"
   ]
  },
  {
   "cell_type": "code",
   "execution_count": 55,
   "metadata": {},
   "outputs": [
    {
     "name": "stdout",
     "output_type": "stream",
     "text": [
      "dA mean =  9.608990675868995\n",
      "dW mean =  10.581741275547566\n",
      "db mean =  196.58204293442054\n"
     ]
    }
   ],
   "source": [
    "np.random.seed(1)\n",
    "dA, dW, db = conv_backward(Z, cache_conv)\n",
    "\n",
    "print('dA mean = ', np.mean(dA))\n",
    "print('dW mean = ', np.mean(dW))\n",
    "print('db mean = ', np.mean(db))"
   ]
  },
  {
   "cell_type": "code",
   "execution_count": null,
   "metadata": {},
   "outputs": [],
   "source": []
  }
 ],
 "metadata": {
  "kernelspec": {
   "display_name": "Python 3",
   "language": "python",
   "name": "python3"
  },
  "language_info": {
   "codemirror_mode": {
    "name": "ipython",
    "version": 3
   },
   "file_extension": ".py",
   "mimetype": "text/x-python",
   "name": "python",
   "nbconvert_exporter": "python",
   "pygments_lexer": "ipython3",
   "version": "3.7.6"
  }
 },
 "nbformat": 4,
 "nbformat_minor": 4
}
