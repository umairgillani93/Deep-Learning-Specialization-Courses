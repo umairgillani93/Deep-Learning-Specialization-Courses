{
 "cells": [
  {
   "cell_type": "markdown",
   "metadata": {},
   "source": [
    "## Computer Vision Documentation:"
   ]
  },
  {
   "cell_type": "markdown",
   "metadata": {},
   "source": [
    "## Computer Vision Problems:\n",
    "\n",
    "__1. Image Classification:__ Classifying images into different categories \n",
    "\n",
    "__2. Object Detection:__ Detecting the different objects in images by creating _bounding boxes_ around the objects\n",
    "\n",
    "* One of the problems with image classification is the large number of features. For examples a 28*28 picture size has total of __784__ number of features. And for an __RGB__ image the total number of features would be __28*28*3__ i.e __2352__ \n",
    "\n",
    "* And if we have __1000*1000__ i.e __1M__ number of features in an image, the __Weight Matrix__ for first hidden layer would be __W[1] = (1000*1000*3, 1000)__ where __1000__ is the number of units in first hidden layer. And on the whole we will have __3B__ parameters to train.\n",
    "\n",
    "* Thats where __Convolution__ concept comes into play, that shriks down the parameters by going through a certain process. We well be covering that in detail!\n"
   ]
  },
  {
   "cell_type": "markdown",
   "metadata": {},
   "source": [
    "## Edge Detection Example:\n",
    "\n",
    "Earlier layers of a Neural Networks detects the __Edges__ and then some later layers detects __Parts of the Objects__ and then even later layers detect __The whole Object__ for example the people faces in the image.\n",
    "\n",
    "* For examples in a particular image, we can first detect the __Vertical Edge__ in a certain image. And, we might also want to detect horizontal edges or lines. So how we detect these edges..\n",
    "\n",
    "* Well in order to detect a __Vertical Edge__ we construct a __3*3__ Matrix called __Filter__, sometimes they call it a __Kernal__.\n",
    "\n",
    "* Now we go ahead and apply __Convolution__ process, i.e we will map this __kernal__ on our image and get the element-wise multiplication sum of each __pixel value__ with the __filter box value__ and this will be equal to the __first pixel value__ of our new matrix\n",
    "\n",
    "* Similarly it will stride pass the entire matrix with a fixed stride-size and going through the __Covolution Process__ figure the the new shrinked matrix"
   ]
  },
  {
   "cell_type": "markdown",
   "metadata": {},
   "source": [
    "Consider an example of __Vertical Edge__. If we have matrix where we have first 3 columns are let's say __value 10__ and and last 3 columns are __zeros__. Then there would be a clear indication that we have a __Vertical Edge__ in centre of the image"
   ]
  },
  {
   "cell_type": "code",
   "execution_count": null,
   "metadata": {},
   "outputs": [],
   "source": []
  }
 ],
 "metadata": {
  "kernelspec": {
   "display_name": "Python 3",
   "language": "python",
   "name": "python3"
  },
  "language_info": {
   "codemirror_mode": {
    "name": "ipython",
    "version": 3
   },
   "file_extension": ".py",
   "mimetype": "text/x-python",
   "name": "python",
   "nbconvert_exporter": "python",
   "pygments_lexer": "ipython3",
   "version": "3.6.9"
  }
 },
 "nbformat": 4,
 "nbformat_minor": 2
}
