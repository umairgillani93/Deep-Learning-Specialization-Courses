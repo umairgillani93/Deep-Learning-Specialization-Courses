{
 "cells": [
  {
   "cell_type": "markdown",
   "metadata": {},
   "source": [
    "## Computer Vision Documentation:"
   ]
  },
  {
   "cell_type": "markdown",
   "metadata": {},
   "source": [
    "## Computer Vision Problems:\n",
    "\n",
    "__1. Image Classification:__ Classifying images into different categories \n",
    "\n",
    "__2. Object Detection:__ Detecting the different objects in images by creating _bounding boxes_ around the objects\n",
    "\n",
    "* One of the problems with image classification is the large number of features. For examples a 28*28 picture size has total of __784__ number of features. And for an __RGB__ image the total number of features would be __28*28*3__ i.e __2352__ \n",
    "\n",
    "* And if we have __1000*1000__ i.e __1M__ number of features in an image, the __Weight Matrix__ for first hidden layer would be __W[1] = (1000*1000*3, 1000)__ where __1000__ is the number of units in first hidden layer. And on the whole we will have __3B__ parameters to train.\n",
    "\n",
    "* Thats where __Convolution__ concept comes into play, that shriks down the parameters by going through a certain process. We well be covering that in detail!\n"
   ]
  },
  {
   "cell_type": "markdown",
   "metadata": {},
   "source": [
    "## Edge Detection Example:\n",
    "\n",
    "Earlier layers of a Neural Networks detects the __Edges__ and then some later layers detects __Parts of the Objects__ and then even later layers detect __The whole Object__ for example the people faces in the image.\n",
    "\n",
    "* For examples in a particular image, we can first detect the __Vertical Edge__ in a certain image. And, we might also want to detect horizontal edges or lines. So how we detect these edges..\n",
    "\n",
    "* Well in order to detect a __Vertical Edge__ we construct a __3*3__ Matrix called __Filter__, sometimes they call it a __Kernal__.\n",
    "\n",
    "* Now we go ahead and apply __Convolution__ process, i.e we will map this __kernal__ on our image and get the element-wise multiplication sum of each __pixel value__ with the __filter box value__ and this will be equal to the __first pixel value__ of our new matrix\n",
    "\n",
    "* Similarly it will stride pass the entire matrix with a fixed stride-size and going through the __Covolution Process__ figure the the new shrinked matrix"
   ]
  },
  {
   "cell_type": "markdown",
   "metadata": {},
   "source": [
    "Consider an example of __Vertical Edge__. If we have matrix where we have first 3 columns are let's say __value 10__ and and last 3 columns are __zeros__. Then there would be a clear indication that we have a __Vertical Edge__ in centre of the image"
   ]
  },
  {
   "cell_type": "markdown",
   "metadata": {},
   "source": [
    "## More Edge Detection:"
   ]
  },
  {
   "cell_type": "markdown",
   "metadata": {},
   "source": [
    "So like we saw earlier for in case of __vertical edge__ detection we used a __filter__ with first colum of values __ones__, second of __zeros__ and third column of values __negative ones__ which showed that we have __brighter__ part on left side, in-between darker part in center and much darkder part on right.\n",
    "\n",
    "Similarly we can used filters for __horizal edge__ detection as well by simply swapping the values of __kernal__, and also we can use many other filters like sobel, and shar etc, depending on the type of edges our image has.\n",
    "\n",
    "__IMPORTANT:__ so with __Deep Learning__ may be you make computer learn those __9 Numbers__ i.e __Filter Values__ to suggest the type of filter we shall need for the __Test Image__\n",
    "\n",
    "So Research has shown that with __Deep Leanring__ we can have better filters than a __Programmer__ would programatically hand-code those."
   ]
  },
  {
   "cell_type": "markdown",
   "metadata": {},
   "source": [
    "## Padding:"
   ]
  },
  {
   "cell_type": "markdown",
   "metadata": {},
   "source": [
    "Let's say we have an __image__ of __6*6__ and a __filter__ of __3*3__ is applied on that image. Than, the _Convolved Image__ we'll have would be off the dimension __n-f+1 * n-f+1__. i.e __6-3+1__ = __4__\n",
    "\n",
    "Also pixesl on the corners are used much less and not overlapped in computation during _Convolution_, which throws away a large information of the image corners. So there are two frequent problems we face during convolutions:\n",
    "\n",
    "* __Shrinkage__ problem (as we don't want our image to shrink on every layer sometimes) because it shrinks the image to very small size\n",
    "\n",
    "* Lossing image corner information.\n",
    "\n",
    "How to solve these problems, that's where __Padding__ comes into play!\n",
    "\n",
    "What we do is we __Padd__ an additional border of pixels around the image, so when the __filters__ strides on the image, it considers the information of the actual inside pixels of the image. NOw if we apply a __3*3__filter around __8*8__ image (padded with additional border) we preserver the original image of __6*6__.\n",
    "i.e __8-3+1 * 8-3+1__ = __6*6__\n",
    "\n",
    "_Formula for padded image size_ = __n+2p-f+1 * n+2p-f+1__, where p=1 for single border"
   ]
  },
  {
   "cell_type": "markdown",
   "metadata": {},
   "source": [
    "## Valid Conv. and Same Conv."
   ]
  },
  {
   "cell_type": "markdown",
   "metadata": {},
   "source": [
    "* __Valid Conv.__: No padding added. Output image shrinks\n",
    "* __Same Conv.__: Padding added, Output image has same size\n",
    "\n",
    "So, in the __Same Conv.__ case we have same output image. And the formula for this is:\n",
    "\n",
    "__n+2p-f+1 * n+2p-f+1__. And if we want to calculate __p__ for the __output__ to be same, we can evaluate it comparing the dimentional equals the _size of image_\n",
    "i.e __n+2p-f+1 = n__, and if we solve for __p__ in this case we have __p = f-1/2__\n",
    "\n",
    "Similarly we can solve it for other __filter__ and __input image__ sizes as well.\n",
    "\n",
    "And by convention in __Computer Vision__, _f_ is almost always __odd__. Also there are two possible reasons for _f_ to be odd:\n",
    "\n",
    "* Because we can calculate an integer value of __p__ by putting __f__ in the forumulla __p = f-1/2__\n",
    "* Secondly we have a center position in the __filter__ when __f__ is __odd__."
   ]
  },
  {
   "cell_type": "code",
   "execution_count": null,
   "metadata": {},
   "outputs": [],
   "source": []
  }
 ],
 "metadata": {
  "kernelspec": {
   "display_name": "Python 3",
   "language": "python",
   "name": "python3"
  },
  "language_info": {
   "codemirror_mode": {
    "name": "ipython",
    "version": 3
   },
   "file_extension": ".py",
   "mimetype": "text/x-python",
   "name": "python",
   "nbconvert_exporter": "python",
   "pygments_lexer": "ipython3",
   "version": "3.6.9"
  }
 },
 "nbformat": 4,
 "nbformat_minor": 2
}
